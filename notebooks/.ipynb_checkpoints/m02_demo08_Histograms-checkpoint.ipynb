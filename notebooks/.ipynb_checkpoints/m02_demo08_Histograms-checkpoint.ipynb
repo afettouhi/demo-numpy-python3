{
 "cells": [
  {
   "cell_type": "markdown",
   "metadata": {},
   "source": [
    "## Histograms"
   ]
  },
  {
   "cell_type": "markdown",
   "metadata": {},
   "source": [
    "The NumPy <b>histogram</b> function applied to an array returns a pair of vectors: the histogram of the array and the vector of bins.\n",
    "\n",
    "It does not plot the data (for which we need matplotlib)"
   ]
  },
  {
   "cell_type": "code",
   "execution_count": 1,
   "metadata": {},
   "outputs": [],
   "source": [
    "import numpy as np\n",
    "import matplotlib.pyplot as plt"
   ]
  },
  {
   "cell_type": "code",
   "execution_count": 2,
   "metadata": {},
   "outputs": [
    {
     "data": {
      "text/plain": [
       "(array([0, 2, 1]), array([0, 1, 2, 3]))"
      ]
     },
     "execution_count": 2,
     "metadata": {},
     "output_type": "execute_result"
    }
   ],
   "source": [
    "np.histogram([1, 2, 1] , bins = [0, 1, 2, 3])"
   ]
  },
  {
   "cell_type": "markdown",
   "metadata": {},
   "source": [
    "#### Create a normal distribution\n",
    "Mean = 2 <br />\n",
    "StdDev = 0.5 <br />\n",
    "Num of data points = 1000"
   ]
  },
  {
   "cell_type": "code",
   "execution_count": 3,
   "metadata": {},
   "outputs": [],
   "source": [
    "mu, sigma = 2 , 0.5\n",
    "data = np.random.normal(mu, sigma, 10000)"
   ]
  },
  {
   "cell_type": "code",
   "execution_count": 4,
   "metadata": {},
   "outputs": [
    {
     "data": {
      "text/plain": [
       "array([2.21142928, 2.15084523, 2.25295969, ..., 1.90219296, 1.60311551,\n",
       "       2.46395504])"
      ]
     },
     "execution_count": 4,
     "metadata": {},
     "output_type": "execute_result"
    }
   ],
   "source": [
    "data"
   ]
  },
  {
   "cell_type": "code",
   "execution_count": 5,
   "metadata": {},
   "outputs": [],
   "source": [
    "(n, bin_edges) = np.histogram( data , bins = 50 )"
   ]
  },
  {
   "cell_type": "markdown",
   "metadata": {},
   "source": [
    "Here, bins is an integer, it defines the number of equal-width bins in the given range (10, by default). \n",
    "\n",
    "Numpy computes the occurrences of input data that fall within each bin, which in turns determines the area (not necessarily the height if the bins aren't of equal width) of each bar.\n",
    "\n",
    "n == number of samples in each bin <br />\n",
    "bin_edges = The right edges of the bins\n",
    "\n",
    "NOTE: The number of bin_edges == len(histogram)+1. This is because bin_edges[0] is the left edge of the first bin, while all other values are the right edges of each bin"
   ]
  },
  {
   "cell_type": "code",
   "execution_count": 6,
   "metadata": {},
   "outputs": [
    {
     "data": {
      "text/plain": [
       "array([  1,   0,   0,   0,   0,   1,   2,   1,   6,   8,  15,  11,  22,\n",
       "        41,  66,  91, 116, 148, 193, 246, 311, 410, 424, 475, 533, 615,\n",
       "       645, 643, 639, 611, 605, 539, 498, 431, 370, 297, 264, 187, 153,\n",
       "       126,  75,  68,  36,  31,  15,  14,  10,   1,   3,   3])"
      ]
     },
     "execution_count": 6,
     "metadata": {},
     "output_type": "execute_result"
    }
   ],
   "source": [
    "n"
   ]
  },
  {
   "cell_type": "code",
   "execution_count": 7,
   "metadata": {},
   "outputs": [
    {
     "data": {
      "text/plain": [
       "array([-0.25771404, -0.17696547, -0.09621689, -0.01546831,  0.06528026,\n",
       "        0.14602884,  0.22677742,  0.30752599,  0.38827457,  0.46902314,\n",
       "        0.54977172,  0.6305203 ,  0.71126887,  0.79201745,  0.87276603,\n",
       "        0.9535146 ,  1.03426318,  1.11501176,  1.19576033,  1.27650891,\n",
       "        1.35725748,  1.43800606,  1.51875464,  1.59950321,  1.68025179,\n",
       "        1.76100037,  1.84174894,  1.92249752,  2.0032461 ,  2.08399467,\n",
       "        2.16474325,  2.24549182,  2.3262404 ,  2.40698898,  2.48773755,\n",
       "        2.56848613,  2.64923471,  2.72998328,  2.81073186,  2.89148043,\n",
       "        2.97222901,  3.05297759,  3.13372616,  3.21447474,  3.29522332,\n",
       "        3.37597189,  3.45672047,  3.53746905,  3.61821762,  3.6989662 ,\n",
       "        3.77971477])"
      ]
     },
     "execution_count": 7,
     "metadata": {},
     "output_type": "execute_result"
    }
   ],
   "source": [
    "bin_edges"
   ]
  },
  {
   "cell_type": "code",
   "execution_count": 8,
   "metadata": {},
   "outputs": [
    {
     "data": {
      "image/png": "[encoded data removed]",
      "text/plain": [
       "<Figure size 432x288 with 1 Axes>"
      ]
     },
     "metadata": {
      "needs_background": "light"
     },
     "output_type": "display_data"
    }
   ],
   "source": [
    "plt.plot(bin_edges[ 1 : ], n)\n",
    "plt.show()"
   ]
  },
  {
   "cell_type": "markdown",
   "metadata": {},
   "source": [
    "### matplotlib version (plot)"
   ]
  },
  {
   "cell_type": "markdown",
   "metadata": {},
   "source": [
    "matplotlib also has a function to build histograms (called hist) that differs from the one in NumPy. \n",
    "\n",
    "The main difference is that <b>pylab.hist </b>plots the histogram automatically, while <b>numpy.histogram </b> only generates the data."
   ]
  },
  {
   "cell_type": "code",
   "execution_count": 9,
   "metadata": {},
   "outputs": [
    {
     "data": {
      "image/png": "[encoded data removed]",
      "text/plain": [
       "<Figure size 432x288 with 1 Axes>"
      ]
     },
     "metadata": {
      "needs_background": "light"
     },
     "output_type": "display_data"
    }
   ],
   "source": [
    "plt.hist([1, 2, 1], bins = [0, 1, 2, 3])\n",
    "plt.show()"
   ]
  },
  {
   "cell_type": "code",
   "execution_count": 10,
   "metadata": {},
   "outputs": [
    {
     "data": {
      "image/png": "[encoded data removed]",
      "text/plain": [
       "<Figure size 432x288 with 1 Axes>"
      ]
     },
     "metadata": {
      "needs_background": "light"
     },
     "output_type": "display_data"
    }
   ],
   "source": [
    "plt.hist(data, bins = 50)\n",
    "plt.show()"
   ]
  },
  {
   "cell_type": "markdown",
   "metadata": {},
   "source": [
    "##### Bin selection can be automated"
   ]
  },
  {
   "cell_type": "code",
   "execution_count": 11,
   "metadata": {},
   "outputs": [
    {
     "data": {
      "image/png": "[encoded data removed]",
      "text/plain": [
       "<Figure size 432x288 with 1 Axes>"
      ]
     },
     "metadata": {
      "needs_background": "light"
     },
     "output_type": "display_data"
    }
   ],
   "source": [
    "plt.hist(data, bins = 'auto')  \n",
    "plt.show()"
   ]
  },
  {
   "cell_type": "code",
   "execution_count": null,
   "metadata": {},
   "outputs": [],
   "source": []
  }
 ],
 "metadata": {
  "kernelspec": {
   "display_name": "Python 3",
   "language": "python",
   "name": "python3"
  },
  "language_info": {
   "codemirror_mode": {
    "name": "ipython",
    "version": 3
   },
   "file_extension": ".py",
   "mimetype": "text/x-python",
   "name": "python",
   "nbconvert_exporter": "python",
   "pygments_lexer": "ipython3",
   "version": "3.7.3"
  }
 },
 "nbformat": 4,
 "nbformat_minor": 2
}
