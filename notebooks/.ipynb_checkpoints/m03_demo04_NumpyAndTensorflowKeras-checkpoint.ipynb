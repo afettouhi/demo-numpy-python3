{
 "cells": [
  {
   "cell_type": "markdown",
   "metadata": {},
   "source": [
    "# Updated Tensorflow demo using MNIST data from Keras instead."
   ]
  },
  {
   "cell_type": "markdown",
   "metadata": {},
   "source": [
    "#### Install tensorflow package"
   ]
  },
  {
   "cell_type": "code",
   "execution_count": 1,
   "metadata": {},
   "outputs": [],
   "source": [
    "# !pip install tensorflow --upgrade"
   ]
  },
  {
   "cell_type": "markdown",
   "metadata": {},
   "source": [
    "#### Upgrade dask package\n",
    "This is to prevent a pandas error when working with tensorflow"
   ]
  },
  {
   "cell_type": "code",
   "execution_count": 2,
   "metadata": {},
   "outputs": [],
   "source": [
    "# !pip install dask --upgrade"
   ]
  },
  {
   "cell_type": "code",
   "execution_count": 3,
   "metadata": {},
   "outputs": [],
   "source": [
    "import numpy as np\n",
    "import tensorflow as tf"
   ]
  },
  {
   "cell_type": "markdown",
   "metadata": {},
   "source": [
    "### Import MNIST data"
   ]
  },
  {
   "cell_type": "code",
   "execution_count": 4,
   "metadata": {},
   "outputs": [
    {
     "name": "stderr",
     "output_type": "stream",
     "text": [
      "Using TensorFlow backend.\n"
     ]
    }
   ],
   "source": [
    "from keras.datasets import mnist\n",
    "from keras.models import Sequential, load_model\n",
    "from keras.layers.core import Dense, Dropout, Activation\n",
    "from keras.utils import np_utils"
   ]
  },
  {
   "cell_type": "code",
   "execution_count": 5,
   "metadata": {},
   "outputs": [],
   "source": [
    "# Stores the Keras MNIST data in ~/.keras by default\n",
    "(X_train, y_train), (X_test, y_test) = mnist.load_data()"
   ]
  },
  {
   "cell_type": "code",
   "execution_count": 6,
   "metadata": {
    "scrolled": false
   },
   "outputs": [],
   "source": [
    "# Applying tensor slicing to extract batch of 5000 train data!\n",
    "dataset_train = tf.data.Dataset.from_tensor_slices((X_train, y_train))\n",
    "dataset_train = dataset_train.batch(5000)\n",
    "iterator_train = dataset_train.make_one_shot_iterator()"
   ]
  },
  {
   "cell_type": "code",
   "execution_count": 7,
   "metadata": {},
   "outputs": [],
   "source": [
    "X_train, y_train = iterator_train.get_next()"
   ]
  },
  {
   "cell_type": "code",
   "execution_count": 8,
   "metadata": {},
   "outputs": [],
   "source": [
    "# Turn tensor in to an array!\n",
    "sess = tf.Session()\n",
    "X_train = X_train.eval(session=sess)"
   ]
  },
  {
   "cell_type": "code",
   "execution_count": 9,
   "metadata": {},
   "outputs": [],
   "source": [
    "# Turn tensor in to an array!\n",
    "sess = tf.Session()\n",
    "y_train = y_train.eval(session=sess)"
   ]
  },
  {
   "cell_type": "code",
   "execution_count": 10,
   "metadata": {},
   "outputs": [
    {
     "data": {
      "text/plain": [
       "array([[[0, 0, 0, ..., 0, 0, 0],\n",
       "        [0, 0, 0, ..., 0, 0, 0],\n",
       "        [0, 0, 0, ..., 0, 0, 0],\n",
       "        ...,\n",
       "        [0, 0, 0, ..., 0, 0, 0],\n",
       "        [0, 0, 0, ..., 0, 0, 0],\n",
       "        [0, 0, 0, ..., 0, 0, 0]],\n",
       "\n",
       "       [[0, 0, 0, ..., 0, 0, 0],\n",
       "        [0, 0, 0, ..., 0, 0, 0],\n",
       "        [0, 0, 0, ..., 0, 0, 0],\n",
       "        ...,\n",
       "        [0, 0, 0, ..., 0, 0, 0],\n",
       "        [0, 0, 0, ..., 0, 0, 0],\n",
       "        [0, 0, 0, ..., 0, 0, 0]],\n",
       "\n",
       "       [[0, 0, 0, ..., 0, 0, 0],\n",
       "        [0, 0, 0, ..., 0, 0, 0],\n",
       "        [0, 0, 0, ..., 0, 0, 0],\n",
       "        ...,\n",
       "        [0, 0, 0, ..., 0, 0, 0],\n",
       "        [0, 0, 0, ..., 0, 0, 0],\n",
       "        [0, 0, 0, ..., 0, 0, 0]],\n",
       "\n",
       "       ...,\n",
       "\n",
       "       [[0, 0, 0, ..., 0, 0, 0],\n",
       "        [0, 0, 0, ..., 0, 0, 0],\n",
       "        [0, 0, 0, ..., 0, 0, 0],\n",
       "        ...,\n",
       "        [0, 0, 0, ..., 0, 0, 0],\n",
       "        [0, 0, 0, ..., 0, 0, 0],\n",
       "        [0, 0, 0, ..., 0, 0, 0]],\n",
       "\n",
       "       [[0, 0, 0, ..., 0, 0, 0],\n",
       "        [0, 0, 0, ..., 0, 0, 0],\n",
       "        [0, 0, 0, ..., 0, 0, 0],\n",
       "        ...,\n",
       "        [0, 0, 0, ..., 0, 0, 0],\n",
       "        [0, 0, 0, ..., 0, 0, 0],\n",
       "        [0, 0, 0, ..., 0, 0, 0]],\n",
       "\n",
       "       [[0, 0, 0, ..., 0, 0, 0],\n",
       "        [0, 0, 0, ..., 0, 0, 0],\n",
       "        [0, 0, 0, ..., 0, 0, 0],\n",
       "        ...,\n",
       "        [0, 0, 0, ..., 0, 0, 0],\n",
       "        [0, 0, 0, ..., 0, 0, 0],\n",
       "        [0, 0, 0, ..., 0, 0, 0]]], dtype=uint8)"
      ]
     },
     "execution_count": 10,
     "metadata": {},
     "output_type": "execute_result"
    }
   ],
   "source": [
    "X_train"
   ]
  },
  {
   "cell_type": "code",
   "execution_count": 11,
   "metadata": {},
   "outputs": [
    {
     "data": {
      "text/plain": [
       "(5000, 28, 28)"
      ]
     },
     "execution_count": 11,
     "metadata": {},
     "output_type": "execute_result"
    }
   ],
   "source": [
    "X_train.shape"
   ]
  },
  {
   "cell_type": "code",
   "execution_count": 12,
   "metadata": {},
   "outputs": [
    {
     "data": {
      "text/plain": [
       "array([5, 0, 4, ..., 2, 1, 2], dtype=uint8)"
      ]
     },
     "execution_count": 12,
     "metadata": {},
     "output_type": "execute_result"
    }
   ],
   "source": [
    "y_train"
   ]
  },
  {
   "cell_type": "code",
   "execution_count": 13,
   "metadata": {},
   "outputs": [
    {
     "data": {
      "text/plain": [
       "(5000,)"
      ]
     },
     "execution_count": 13,
     "metadata": {},
     "output_type": "execute_result"
    }
   ],
   "source": [
    "y_train.shape"
   ]
  },
  {
   "cell_type": "code",
   "execution_count": 14,
   "metadata": {
    "scrolled": false
   },
   "outputs": [],
   "source": [
    "# Applying tensor slicing to extract batch of 200 to test data!\n",
    "dataset_test = tf.data.Dataset.from_tensor_slices((X_test, y_test))\n",
    "dataset_test = dataset_test.batch(200)\n",
    "iterator_test = dataset_test.make_one_shot_iterator()"
   ]
  },
  {
   "cell_type": "code",
   "execution_count": 15,
   "metadata": {},
   "outputs": [],
   "source": [
    "X_test, y_test = iterator_test.get_next()"
   ]
  },
  {
   "cell_type": "code",
   "execution_count": 16,
   "metadata": {},
   "outputs": [],
   "source": [
    "# Turn tensor in to an array!\n",
    "sess = tf.Session()\n",
    "X_test = X_test.eval(session=sess)"
   ]
  },
  {
   "cell_type": "code",
   "execution_count": 17,
   "metadata": {},
   "outputs": [],
   "source": [
    "# Turn tensor in to an array!\n",
    "sess = tf.Session()\n",
    "y_test = y_test.eval(session=sess)"
   ]
  },
  {
   "cell_type": "code",
   "execution_count": 18,
   "metadata": {},
   "outputs": [
    {
     "data": {
      "text/plain": [
       "array([[[0, 0, 0, ..., 0, 0, 0],\n",
       "        [0, 0, 0, ..., 0, 0, 0],\n",
       "        [0, 0, 0, ..., 0, 0, 0],\n",
       "        ...,\n",
       "        [0, 0, 0, ..., 0, 0, 0],\n",
       "        [0, 0, 0, ..., 0, 0, 0],\n",
       "        [0, 0, 0, ..., 0, 0, 0]],\n",
       "\n",
       "       [[0, 0, 0, ..., 0, 0, 0],\n",
       "        [0, 0, 0, ..., 0, 0, 0],\n",
       "        [0, 0, 0, ..., 0, 0, 0],\n",
       "        ...,\n",
       "        [0, 0, 0, ..., 0, 0, 0],\n",
       "        [0, 0, 0, ..., 0, 0, 0],\n",
       "        [0, 0, 0, ..., 0, 0, 0]],\n",
       "\n",
       "       [[0, 0, 0, ..., 0, 0, 0],\n",
       "        [0, 0, 0, ..., 0, 0, 0],\n",
       "        [0, 0, 0, ..., 0, 0, 0],\n",
       "        ...,\n",
       "        [0, 0, 0, ..., 0, 0, 0],\n",
       "        [0, 0, 0, ..., 0, 0, 0],\n",
       "        [0, 0, 0, ..., 0, 0, 0]],\n",
       "\n",
       "       ...,\n",
       "\n",
       "       [[0, 0, 0, ..., 0, 0, 0],\n",
       "        [0, 0, 0, ..., 0, 0, 0],\n",
       "        [0, 0, 0, ..., 0, 0, 0],\n",
       "        ...,\n",
       "        [0, 0, 0, ..., 0, 0, 0],\n",
       "        [0, 0, 0, ..., 0, 0, 0],\n",
       "        [0, 0, 0, ..., 0, 0, 0]],\n",
       "\n",
       "       [[0, 0, 0, ..., 0, 0, 0],\n",
       "        [0, 0, 0, ..., 0, 0, 0],\n",
       "        [0, 0, 0, ..., 0, 0, 0],\n",
       "        ...,\n",
       "        [0, 0, 0, ..., 0, 0, 0],\n",
       "        [0, 0, 0, ..., 0, 0, 0],\n",
       "        [0, 0, 0, ..., 0, 0, 0]],\n",
       "\n",
       "       [[0, 0, 0, ..., 0, 0, 0],\n",
       "        [0, 0, 0, ..., 0, 0, 0],\n",
       "        [0, 0, 0, ..., 0, 0, 0],\n",
       "        ...,\n",
       "        [0, 0, 0, ..., 0, 0, 0],\n",
       "        [0, 0, 0, ..., 0, 0, 0],\n",
       "        [0, 0, 0, ..., 0, 0, 0]]], dtype=uint8)"
      ]
     },
     "execution_count": 18,
     "metadata": {},
     "output_type": "execute_result"
    }
   ],
   "source": [
    "X_test"
   ]
  },
  {
   "cell_type": "code",
   "execution_count": 19,
   "metadata": {},
   "outputs": [
    {
     "data": {
      "text/plain": [
       "(200, 28, 28)"
      ]
     },
     "execution_count": 19,
     "metadata": {},
     "output_type": "execute_result"
    }
   ],
   "source": [
    "X_test.shape"
   ]
  },
  {
   "cell_type": "code",
   "execution_count": 20,
   "metadata": {},
   "outputs": [
    {
     "data": {
      "text/plain": [
       "array([7, 2, 1, 0, 4, 1, 4, 9, 5, 9, 0, 6, 9, 0, 1, 5, 9, 7, 3, 4, 9, 6,\n",
       "       6, 5, 4, 0, 7, 4, 0, 1, 3, 1, 3, 4, 7, 2, 7, 1, 2, 1, 1, 7, 4, 2,\n",
       "       3, 5, 1, 2, 4, 4, 6, 3, 5, 5, 6, 0, 4, 1, 9, 5, 7, 8, 9, 3, 7, 4,\n",
       "       6, 4, 3, 0, 7, 0, 2, 9, 1, 7, 3, 2, 9, 7, 7, 6, 2, 7, 8, 4, 7, 3,\n",
       "       6, 1, 3, 6, 9, 3, 1, 4, 1, 7, 6, 9, 6, 0, 5, 4, 9, 9, 2, 1, 9, 4,\n",
       "       8, 7, 3, 9, 7, 4, 4, 4, 9, 2, 5, 4, 7, 6, 7, 9, 0, 5, 8, 5, 6, 6,\n",
       "       5, 7, 8, 1, 0, 1, 6, 4, 6, 7, 3, 1, 7, 1, 8, 2, 0, 2, 9, 9, 5, 5,\n",
       "       1, 5, 6, 0, 3, 4, 4, 6, 5, 4, 6, 5, 4, 5, 1, 4, 4, 7, 2, 3, 2, 7,\n",
       "       1, 8, 1, 8, 1, 8, 5, 0, 8, 9, 2, 5, 0, 1, 1, 1, 0, 9, 0, 3, 1, 6,\n",
       "       4, 2], dtype=uint8)"
      ]
     },
     "execution_count": 20,
     "metadata": {},
     "output_type": "execute_result"
    }
   ],
   "source": [
    "y_test"
   ]
  },
  {
   "cell_type": "code",
   "execution_count": 21,
   "metadata": {},
   "outputs": [
    {
     "data": {
      "text/plain": [
       "(200,)"
      ]
     },
     "execution_count": 21,
     "metadata": {},
     "output_type": "execute_result"
    }
   ],
   "source": [
    "y_test.shape"
   ]
  },
  {
   "cell_type": "code",
   "execution_count": 22,
   "metadata": {
    "scrolled": true
   },
   "outputs": [],
   "source": [
    "# Change type to a float!\n",
    "reshaped_X_train = X_train.reshape(5000, 784)\n",
    "reshaped_X_test = X_test.reshape(200, 784)\n",
    "reshaped_X_train = reshaped_X_train.astype('float32')\n",
    "reshaped_X_test = reshaped_X_test.astype('float32')"
   ]
  },
  {
   "cell_type": "code",
   "execution_count": 23,
   "metadata": {},
   "outputs": [],
   "source": [
    "reshaped_X_train /= 255\n",
    "reshaped_X_test /= 255"
   ]
  },
  {
   "cell_type": "code",
   "execution_count": 24,
   "metadata": {},
   "outputs": [
    {
     "data": {
      "text/plain": [
       "array([[0., 0., 0., ..., 0., 0., 0.],\n",
       "       [0., 0., 0., ..., 0., 0., 0.],\n",
       "       [0., 0., 0., ..., 0., 0., 0.],\n",
       "       ...,\n",
       "       [0., 0., 0., ..., 0., 0., 0.],\n",
       "       [0., 0., 0., ..., 0., 0., 0.],\n",
       "       [0., 0., 0., ..., 0., 0., 0.]], dtype=float32)"
      ]
     },
     "execution_count": 24,
     "metadata": {},
     "output_type": "execute_result"
    }
   ],
   "source": [
    "reshaped_X_train"
   ]
  },
  {
   "cell_type": "code",
   "execution_count": 25,
   "metadata": {},
   "outputs": [
    {
     "data": {
      "text/plain": [
       "(5000, 784)"
      ]
     },
     "execution_count": 25,
     "metadata": {},
     "output_type": "execute_result"
    }
   ],
   "source": [
    "reshaped_X_train.shape"
   ]
  },
  {
   "cell_type": "code",
   "execution_count": 26,
   "metadata": {},
   "outputs": [
    {
     "data": {
      "text/plain": [
       "array([[0., 0., 0., ..., 0., 0., 0.],\n",
       "       [0., 0., 0., ..., 0., 0., 0.],\n",
       "       [0., 0., 0., ..., 0., 0., 0.],\n",
       "       ...,\n",
       "       [0., 0., 0., ..., 0., 0., 0.],\n",
       "       [0., 0., 0., ..., 0., 0., 0.],\n",
       "       [0., 0., 0., ..., 0., 0., 0.]], dtype=float32)"
      ]
     },
     "execution_count": 26,
     "metadata": {},
     "output_type": "execute_result"
    }
   ],
   "source": [
    "reshaped_X_test"
   ]
  },
  {
   "cell_type": "code",
   "execution_count": 27,
   "metadata": {
    "scrolled": true
   },
   "outputs": [
    {
     "data": {
      "text/plain": [
       "(200, 784)"
      ]
     },
     "execution_count": 27,
     "metadata": {},
     "output_type": "execute_result"
    }
   ],
   "source": [
    "reshaped_X_test.shape"
   ]
  },
  {
   "cell_type": "code",
   "execution_count": 28,
   "metadata": {},
   "outputs": [
    {
     "data": {
      "text/plain": [
       "array([5, 0, 4, ..., 2, 1, 2], dtype=uint8)"
      ]
     },
     "execution_count": 28,
     "metadata": {},
     "output_type": "execute_result"
    }
   ],
   "source": [
    "y_train"
   ]
  },
  {
   "cell_type": "code",
   "execution_count": 29,
   "metadata": {},
   "outputs": [
    {
     "data": {
      "text/plain": [
       "(5000,)"
      ]
     },
     "execution_count": 29,
     "metadata": {},
     "output_type": "execute_result"
    }
   ],
   "source": [
    "y_train.shape"
   ]
  },
  {
   "cell_type": "code",
   "execution_count": 30,
   "metadata": {},
   "outputs": [
    {
     "data": {
      "text/plain": [
       "array([7, 2, 1, 0, 4, 1, 4, 9, 5, 9, 0, 6, 9, 0, 1, 5, 9, 7, 3, 4, 9, 6,\n",
       "       6, 5, 4, 0, 7, 4, 0, 1, 3, 1, 3, 4, 7, 2, 7, 1, 2, 1, 1, 7, 4, 2,\n",
       "       3, 5, 1, 2, 4, 4, 6, 3, 5, 5, 6, 0, 4, 1, 9, 5, 7, 8, 9, 3, 7, 4,\n",
       "       6, 4, 3, 0, 7, 0, 2, 9, 1, 7, 3, 2, 9, 7, 7, 6, 2, 7, 8, 4, 7, 3,\n",
       "       6, 1, 3, 6, 9, 3, 1, 4, 1, 7, 6, 9, 6, 0, 5, 4, 9, 9, 2, 1, 9, 4,\n",
       "       8, 7, 3, 9, 7, 4, 4, 4, 9, 2, 5, 4, 7, 6, 7, 9, 0, 5, 8, 5, 6, 6,\n",
       "       5, 7, 8, 1, 0, 1, 6, 4, 6, 7, 3, 1, 7, 1, 8, 2, 0, 2, 9, 9, 5, 5,\n",
       "       1, 5, 6, 0, 3, 4, 4, 6, 5, 4, 6, 5, 4, 5, 1, 4, 4, 7, 2, 3, 2, 7,\n",
       "       1, 8, 1, 8, 1, 8, 5, 0, 8, 9, 2, 5, 0, 1, 1, 1, 0, 9, 0, 3, 1, 6,\n",
       "       4, 2], dtype=uint8)"
      ]
     },
     "execution_count": 30,
     "metadata": {},
     "output_type": "execute_result"
    }
   ],
   "source": [
    "y_test"
   ]
  },
  {
   "cell_type": "code",
   "execution_count": 31,
   "metadata": {},
   "outputs": [
    {
     "data": {
      "text/plain": [
       "(200,)"
      ]
     },
     "execution_count": 31,
     "metadata": {},
     "output_type": "execute_result"
    }
   ],
   "source": [
    "y_test.shape"
   ]
  },
  {
   "cell_type": "markdown",
   "metadata": {},
   "source": [
    "#### Effect of one-hot-encoding\n",
    "The label comprises 10 'columns', one for each digit <br />\n",
    "The column corresponding to the digit has a value of 1"
   ]
  },
  {
   "cell_type": "code",
   "execution_count": 32,
   "metadata": {},
   "outputs": [],
   "source": [
    "n_classes = 10\n",
    "Y_train = np_utils.to_categorical(y_train, n_classes)\n",
    "Y_test = np_utils.to_categorical(y_test, n_classes)"
   ]
  },
  {
   "cell_type": "code",
   "execution_count": 33,
   "metadata": {},
   "outputs": [
    {
     "data": {
      "text/plain": [
       "array([[0., 0., 0., ..., 0., 0., 0.],\n",
       "       [1., 0., 0., ..., 0., 0., 0.],\n",
       "       [0., 0., 0., ..., 0., 0., 0.],\n",
       "       ...,\n",
       "       [0., 0., 1., ..., 0., 0., 0.],\n",
       "       [0., 1., 0., ..., 0., 0., 0.],\n",
       "       [0., 0., 1., ..., 0., 0., 0.]], dtype=float32)"
      ]
     },
     "execution_count": 33,
     "metadata": {},
     "output_type": "execute_result"
    }
   ],
   "source": [
    "Y_train"
   ]
  },
  {
   "cell_type": "code",
   "execution_count": 34,
   "metadata": {},
   "outputs": [
    {
     "data": {
      "text/plain": [
       "(5000, 10)"
      ]
     },
     "execution_count": 34,
     "metadata": {},
     "output_type": "execute_result"
    }
   ],
   "source": [
    "Y_train.shape"
   ]
  },
  {
   "cell_type": "code",
   "execution_count": 35,
   "metadata": {},
   "outputs": [
    {
     "data": {
      "text/plain": [
       "array([[0., 0., 0., ..., 1., 0., 0.],\n",
       "       [0., 0., 1., ..., 0., 0., 0.],\n",
       "       [0., 1., 0., ..., 0., 0., 0.],\n",
       "       ...,\n",
       "       [0., 0., 0., ..., 0., 0., 0.],\n",
       "       [0., 0., 0., ..., 0., 0., 0.],\n",
       "       [0., 0., 1., ..., 0., 0., 0.]], dtype=float32)"
      ]
     },
     "execution_count": 35,
     "metadata": {},
     "output_type": "execute_result"
    }
   ],
   "source": [
    "Y_test"
   ]
  },
  {
   "cell_type": "code",
   "execution_count": 36,
   "metadata": {},
   "outputs": [
    {
     "data": {
      "text/plain": [
       "(200, 10)"
      ]
     },
     "execution_count": 36,
     "metadata": {},
     "output_type": "execute_result"
    }
   ],
   "source": [
    "Y_test.shape"
   ]
  },
  {
   "cell_type": "markdown",
   "metadata": {},
   "source": [
    "### Using numpy "
   ]
  },
  {
   "cell_type": "markdown",
   "metadata": {},
   "source": [
    "#### Write a function to crop out edges from a given list of images\n",
    "The specified number of pixels will be cropped off the edges of each image in the given list"
   ]
  },
  {
   "cell_type": "code",
   "execution_count": 37,
   "metadata": {},
   "outputs": [],
   "source": [
    "def crop_edges(images, cropx, cropy):\n",
    "    \n",
    "    c, x, y = images.shape\n",
    "    \n",
    "    startx = x//2 - cropx//2\n",
    "    starty = y//2 - cropy//2    \n",
    "    \n",
    "    return images[:, startx:startx + cropx, starty:starty + cropy]"
   ]
  },
  {
   "cell_type": "code",
   "execution_count": 38,
   "metadata": {},
   "outputs": [
    {
     "data": {
      "text/plain": [
       "(5000, 28, 28)"
      ]
     },
     "execution_count": 38,
     "metadata": {},
     "output_type": "execute_result"
    }
   ],
   "source": [
    "X_train.shape"
   ]
  },
  {
   "cell_type": "code",
   "execution_count": 39,
   "metadata": {},
   "outputs": [
    {
     "data": {
      "text/plain": [
       "(5000, 24, 24)"
      ]
     },
     "execution_count": 39,
     "metadata": {},
     "output_type": "execute_result"
    }
   ],
   "source": [
    "crop_edges(X_train,24,24).shape"
   ]
  },
  {
   "cell_type": "code",
   "execution_count": 40,
   "metadata": {},
   "outputs": [],
   "source": [
    "cropped_X_train = crop_edges(X_train,24,24)"
   ]
  },
  {
   "cell_type": "code",
   "execution_count": 41,
   "metadata": {
    "scrolled": true
   },
   "outputs": [],
   "source": [
    "cropped_X_train = cropped_X_train.reshape(5000,576)"
   ]
  },
  {
   "cell_type": "code",
   "execution_count": 42,
   "metadata": {},
   "outputs": [
    {
     "data": {
      "text/plain": [
       "(5000, 576)"
      ]
     },
     "execution_count": 42,
     "metadata": {},
     "output_type": "execute_result"
    }
   ],
   "source": [
    "cropped_X_train.shape"
   ]
  },
  {
   "cell_type": "code",
   "execution_count": 43,
   "metadata": {},
   "outputs": [
    {
     "data": {
      "text/plain": [
       "(200, 28, 28)"
      ]
     },
     "execution_count": 43,
     "metadata": {},
     "output_type": "execute_result"
    }
   ],
   "source": [
    "X_test.shape"
   ]
  },
  {
   "cell_type": "code",
   "execution_count": 44,
   "metadata": {},
   "outputs": [],
   "source": [
    "cropped_X_test = crop_edges(X_test,24,24)"
   ]
  },
  {
   "cell_type": "code",
   "execution_count": 45,
   "metadata": {},
   "outputs": [
    {
     "data": {
      "text/plain": [
       "(200, 24, 24)"
      ]
     },
     "execution_count": 45,
     "metadata": {},
     "output_type": "execute_result"
    }
   ],
   "source": [
    "cropped_X_test.shape"
   ]
  },
  {
   "cell_type": "code",
   "execution_count": 46,
   "metadata": {},
   "outputs": [],
   "source": [
    "cropped_X_test = cropped_X_test.reshape(200,576)"
   ]
  },
  {
   "cell_type": "code",
   "execution_count": 47,
   "metadata": {},
   "outputs": [
    {
     "data": {
      "text/plain": [
       "(200, 576)"
      ]
     },
     "execution_count": 47,
     "metadata": {},
     "output_type": "execute_result"
    }
   ],
   "source": [
    "cropped_X_test.shape"
   ]
  },
  {
   "cell_type": "markdown",
   "metadata": {},
   "source": [
    "### End of numpy reshaping"
   ]
  },
  {
   "cell_type": "code",
   "execution_count": 48,
   "metadata": {},
   "outputs": [],
   "source": [
    "X_train_pl = tf.placeholder(\"float\", [None, 784])"
   ]
  },
  {
   "cell_type": "code",
   "execution_count": 49,
   "metadata": {},
   "outputs": [],
   "source": [
    "cropped_X_train_pl = tf.placeholder(\"float\", [None, 576])"
   ]
  },
  {
   "cell_type": "code",
   "execution_count": 50,
   "metadata": {},
   "outputs": [],
   "source": [
    "X_test_pl = tf.placeholder(\"float\", [784])"
   ]
  },
  {
   "cell_type": "code",
   "execution_count": 51,
   "metadata": {},
   "outputs": [],
   "source": [
    "cropped_X_test_pl = tf.placeholder(\"float\", [576])"
   ]
  },
  {
   "cell_type": "markdown",
   "metadata": {},
   "source": [
    "#### Nearest Neighbor calculation using L1 distance"
   ]
  },
  {
   "cell_type": "code",
   "execution_count": 52,
   "metadata": {
    "scrolled": true
   },
   "outputs": [],
   "source": [
    "l1_distance = tf.abs(tf.add(X_train_pl, \n",
    "                            tf.negative(X_test_pl)))"
   ]
  },
  {
   "cell_type": "code",
   "execution_count": 53,
   "metadata": {},
   "outputs": [],
   "source": [
    "distance = tf.reduce_sum(l1_distance, axis=1)"
   ]
  },
  {
   "cell_type": "code",
   "execution_count": 54,
   "metadata": {},
   "outputs": [],
   "source": [
    "# Prediction: Get min distance index (Nearest neighbor)\n",
    "# pred = tf.arg_min(distance, 0) - arg_min is deprecated\n",
    "pred = tf.math.argmin(distance, 0)"
   ]
  },
  {
   "cell_type": "code",
   "execution_count": 55,
   "metadata": {},
   "outputs": [],
   "source": [
    "accuracy = 0."
   ]
  },
  {
   "cell_type": "code",
   "execution_count": 56,
   "metadata": {},
   "outputs": [
    {
     "name": "stdout",
     "output_type": "stream",
     "text": [
      "Test: 0 Prediction: 7 True Label: 7\n",
      "Test: 1 Prediction: 2 True Label: 2\n",
      "Test: 2 Prediction: 1 True Label: 1\n",
      "Test: 3 Prediction: 0 True Label: 0\n",
      "Test: 4 Prediction: 9 True Label: 4\n",
      "Test: 5 Prediction: 1 True Label: 1\n",
      "Test: 6 Prediction: 9 True Label: 4\n",
      "Test: 7 Prediction: 9 True Label: 9\n",
      "Test: 8 Prediction: 5 True Label: 5\n",
      "Test: 9 Prediction: 9 True Label: 9\n",
      "Test: 10 Prediction: 0 True Label: 0\n",
      "Test: 11 Prediction: 6 True Label: 6\n",
      "Test: 12 Prediction: 9 True Label: 9\n",
      "Test: 13 Prediction: 0 True Label: 0\n",
      "Test: 14 Prediction: 1 True Label: 1\n",
      "Test: 15 Prediction: 5 True Label: 5\n",
      "Test: 16 Prediction: 4 True Label: 9\n",
      "Test: 17 Prediction: 7 True Label: 7\n",
      "Test: 18 Prediction: 3 True Label: 3\n",
      "Test: 19 Prediction: 4 True Label: 4\n",
      "Test: 20 Prediction: 9 True Label: 9\n",
      "Test: 21 Prediction: 6 True Label: 6\n",
      "Test: 22 Prediction: 6 True Label: 6\n",
      "Test: 23 Prediction: 5 True Label: 5\n",
      "Test: 24 Prediction: 9 True Label: 4\n",
      "Test: 25 Prediction: 0 True Label: 0\n",
      "Test: 26 Prediction: 7 True Label: 7\n",
      "Test: 27 Prediction: 4 True Label: 4\n",
      "Test: 28 Prediction: 0 True Label: 0\n",
      "Test: 29 Prediction: 1 True Label: 1\n",
      "Test: 30 Prediction: 3 True Label: 3\n",
      "Test: 31 Prediction: 1 True Label: 1\n",
      "Test: 32 Prediction: 3 True Label: 3\n",
      "Test: 33 Prediction: 4 True Label: 4\n",
      "Test: 34 Prediction: 7 True Label: 7\n",
      "Test: 35 Prediction: 2 True Label: 2\n",
      "Test: 36 Prediction: 7 True Label: 7\n",
      "Test: 37 Prediction: 1 True Label: 1\n",
      "Test: 38 Prediction: 2 True Label: 2\n",
      "Test: 39 Prediction: 1 True Label: 1\n",
      "Test: 40 Prediction: 1 True Label: 1\n",
      "Test: 41 Prediction: 7 True Label: 7\n",
      "Test: 42 Prediction: 4 True Label: 4\n",
      "Test: 43 Prediction: 1 True Label: 2\n",
      "Test: 44 Prediction: 5 True Label: 3\n",
      "Test: 45 Prediction: 5 True Label: 5\n",
      "Test: 46 Prediction: 1 True Label: 1\n",
      "Test: 47 Prediction: 2 True Label: 2\n",
      "Test: 48 Prediction: 4 True Label: 4\n",
      "Test: 49 Prediction: 4 True Label: 4\n",
      "Test: 50 Prediction: 6 True Label: 6\n",
      "Test: 51 Prediction: 3 True Label: 3\n",
      "Test: 52 Prediction: 5 True Label: 5\n",
      "Test: 53 Prediction: 5 True Label: 5\n",
      "Test: 54 Prediction: 6 True Label: 6\n",
      "Test: 55 Prediction: 0 True Label: 0\n",
      "Test: 56 Prediction: 4 True Label: 4\n",
      "Test: 57 Prediction: 1 True Label: 1\n",
      "Test: 58 Prediction: 9 True Label: 9\n",
      "Test: 59 Prediction: 5 True Label: 5\n",
      "Test: 60 Prediction: 7 True Label: 7\n",
      "Test: 61 Prediction: 2 True Label: 8\n",
      "Test: 62 Prediction: 9 True Label: 9\n",
      "Test: 63 Prediction: 3 True Label: 3\n",
      "Test: 64 Prediction: 7 True Label: 7\n",
      "Test: 65 Prediction: 4 True Label: 4\n",
      "Test: 66 Prediction: 6 True Label: 6\n",
      "Test: 67 Prediction: 4 True Label: 4\n",
      "Test: 68 Prediction: 3 True Label: 3\n",
      "Test: 69 Prediction: 0 True Label: 0\n",
      "Test: 70 Prediction: 7 True Label: 7\n",
      "Test: 71 Prediction: 0 True Label: 0\n",
      "Test: 72 Prediction: 2 True Label: 2\n",
      "Test: 73 Prediction: 7 True Label: 9\n",
      "Test: 74 Prediction: 1 True Label: 1\n",
      "Test: 75 Prediction: 7 True Label: 7\n",
      "Test: 76 Prediction: 3 True Label: 3\n",
      "Test: 77 Prediction: 3 True Label: 2\n",
      "Test: 78 Prediction: 9 True Label: 9\n",
      "Test: 79 Prediction: 7 True Label: 7\n",
      "Test: 80 Prediction: 7 True Label: 7\n",
      "Test: 81 Prediction: 6 True Label: 6\n",
      "Test: 82 Prediction: 2 True Label: 2\n",
      "Test: 83 Prediction: 7 True Label: 7\n",
      "Test: 84 Prediction: 8 True Label: 8\n",
      "Test: 85 Prediction: 4 True Label: 4\n",
      "Test: 86 Prediction: 7 True Label: 7\n",
      "Test: 87 Prediction: 5 True Label: 3\n",
      "Test: 88 Prediction: 6 True Label: 6\n",
      "Test: 89 Prediction: 1 True Label: 1\n",
      "Test: 90 Prediction: 3 True Label: 3\n",
      "Test: 91 Prediction: 6 True Label: 6\n",
      "Test: 92 Prediction: 4 True Label: 9\n",
      "Test: 93 Prediction: 3 True Label: 3\n",
      "Test: 94 Prediction: 1 True Label: 1\n",
      "Test: 95 Prediction: 4 True Label: 4\n",
      "Test: 96 Prediction: 1 True Label: 1\n",
      "Test: 97 Prediction: 7 True Label: 7\n",
      "Test: 98 Prediction: 6 True Label: 6\n",
      "Test: 99 Prediction: 9 True Label: 9\n",
      "Test: 100 Prediction: 6 True Label: 6\n",
      "Test: 101 Prediction: 0 True Label: 0\n",
      "Test: 102 Prediction: 5 True Label: 5\n",
      "Test: 103 Prediction: 4 True Label: 4\n",
      "Test: 104 Prediction: 9 True Label: 9\n",
      "Test: 105 Prediction: 9 True Label: 9\n",
      "Test: 106 Prediction: 2 True Label: 2\n",
      "Test: 107 Prediction: 1 True Label: 1\n",
      "Test: 108 Prediction: 9 True Label: 9\n",
      "Test: 109 Prediction: 4 True Label: 4\n",
      "Test: 110 Prediction: 8 True Label: 8\n",
      "Test: 111 Prediction: 7 True Label: 7\n",
      "Test: 112 Prediction: 3 True Label: 3\n",
      "Test: 113 Prediction: 9 True Label: 9\n",
      "Test: 114 Prediction: 7 True Label: 7\n",
      "Test: 115 Prediction: 9 True Label: 4\n",
      "Test: 116 Prediction: 4 True Label: 4\n",
      "Test: 117 Prediction: 4 True Label: 4\n",
      "Test: 118 Prediction: 9 True Label: 9\n",
      "Test: 119 Prediction: 2 True Label: 2\n",
      "Test: 120 Prediction: 5 True Label: 5\n",
      "Test: 121 Prediction: 4 True Label: 4\n",
      "Test: 122 Prediction: 7 True Label: 7\n",
      "Test: 123 Prediction: 6 True Label: 6\n",
      "Test: 124 Prediction: 7 True Label: 7\n",
      "Test: 125 Prediction: 9 True Label: 9\n",
      "Test: 126 Prediction: 0 True Label: 0\n",
      "Test: 127 Prediction: 5 True Label: 5\n",
      "Test: 128 Prediction: 8 True Label: 8\n",
      "Test: 129 Prediction: 5 True Label: 5\n",
      "Test: 130 Prediction: 6 True Label: 6\n",
      "Test: 131 Prediction: 6 True Label: 6\n",
      "Test: 132 Prediction: 5 True Label: 5\n",
      "Test: 133 Prediction: 7 True Label: 7\n",
      "Test: 134 Prediction: 8 True Label: 8\n",
      "Test: 135 Prediction: 1 True Label: 1\n",
      "Test: 136 Prediction: 0 True Label: 0\n",
      "Test: 137 Prediction: 1 True Label: 1\n",
      "Test: 138 Prediction: 6 True Label: 6\n",
      "Test: 139 Prediction: 4 True Label: 4\n",
      "Test: 140 Prediction: 6 True Label: 6\n",
      "Test: 141 Prediction: 7 True Label: 7\n",
      "Test: 142 Prediction: 3 True Label: 3\n",
      "Test: 143 Prediction: 1 True Label: 1\n",
      "Test: 144 Prediction: 7 True Label: 7\n",
      "Test: 145 Prediction: 1 True Label: 1\n",
      "Test: 146 Prediction: 8 True Label: 8\n",
      "Test: 147 Prediction: 2 True Label: 2\n",
      "Test: 148 Prediction: 0 True Label: 0\n",
      "Test: 149 Prediction: 1 True Label: 2\n",
      "Test: 150 Prediction: 9 True Label: 9\n",
      "Test: 151 Prediction: 9 True Label: 9\n",
      "Test: 152 Prediction: 5 True Label: 5\n",
      "Test: 153 Prediction: 5 True Label: 5\n",
      "Test: 154 Prediction: 1 True Label: 1\n",
      "Test: 155 Prediction: 5 True Label: 5\n",
      "Test: 156 Prediction: 6 True Label: 6\n",
      "Test: 157 Prediction: 0 True Label: 0\n",
      "Test: 158 Prediction: 3 True Label: 3\n",
      "Test: 159 Prediction: 4 True Label: 4\n",
      "Test: 160 Prediction: 4 True Label: 4\n",
      "Test: 161 Prediction: 6 True Label: 6\n",
      "Test: 162 Prediction: 5 True Label: 5\n",
      "Test: 163 Prediction: 4 True Label: 4\n",
      "Test: 164 Prediction: 6 True Label: 6\n",
      "Test: 165 Prediction: 5 True Label: 5\n",
      "Test: 166 Prediction: 4 True Label: 4\n",
      "Test: 167 Prediction: 5 True Label: 5\n",
      "Test: 168 Prediction: 1 True Label: 1\n",
      "Test: 169 Prediction: 4 True Label: 4\n",
      "Test: 170 Prediction: 4 True Label: 4\n",
      "Test: 171 Prediction: 7 True Label: 7\n",
      "Test: 172 Prediction: 2 True Label: 2\n",
      "Test: 173 Prediction: 3 True Label: 3\n",
      "Test: 174 Prediction: 2 True Label: 2\n",
      "Test: 175 Prediction: 9 True Label: 7\n",
      "Test: 176 Prediction: 1 True Label: 1\n",
      "Test: 177 Prediction: 8 True Label: 8\n",
      "Test: 178 Prediction: 1 True Label: 1\n",
      "Test: 179 Prediction: 8 True Label: 8\n",
      "Test: 180 Prediction: 1 True Label: 1\n",
      "Test: 181 Prediction: 8 True Label: 8\n",
      "Test: 182 Prediction: 5 True Label: 5\n",
      "Test: 183 Prediction: 0 True Label: 0\n",
      "Test: 184 Prediction: 3 True Label: 8\n",
      "Test: 185 Prediction: 9 True Label: 9\n",
      "Test: 186 Prediction: 2 True Label: 2\n",
      "Test: 187 Prediction: 5 True Label: 5\n",
      "Test: 188 Prediction: 0 True Label: 0\n",
      "Test: 189 Prediction: 1 True Label: 1\n",
      "Test: 190 Prediction: 1 True Label: 1\n",
      "Test: 191 Prediction: 1 True Label: 1\n",
      "Test: 192 Prediction: 0 True Label: 0\n",
      "Test: 193 Prediction: 7 True Label: 9\n",
      "Test: 194 Prediction: 0 True Label: 0\n",
      "Test: 195 Prediction: 1 True Label: 3\n",
      "Test: 196 Prediction: 1 True Label: 1\n",
      "Test: 197 Prediction: 6 True Label: 6\n",
      "Test: 198 Prediction: 4 True Label: 4\n",
      "Test: 199 Prediction: 2 True Label: 2\n",
      "Done!\n",
      "Accuracy: 0.9150000000000007\n"
     ]
    }
   ],
   "source": [
    "# Initializing the variables\n",
    "init = tf.global_variables_initializer()\n",
    "\n",
    "with tf.Session() as sess:\n",
    "    sess.run(init)\n",
    "\n",
    "    # loop over test data\n",
    "    for i in range(len(reshaped_X_test)):\n",
    "        # Get nearest neighbor\n",
    "        nn_index = sess.run(pred, \\\n",
    "        \tfeed_dict={X_train_pl: reshaped_X_train, \n",
    "                       X_test_pl: reshaped_X_test[i, :]})\n",
    "\n",
    "        # Get nearest neighbor class label and compare it to its true label\n",
    "        print(\"Test:\", i, \n",
    "              \"Prediction:\", np.argmax(Y_train[nn_index]),\n",
    "              \"True Label:\", np.argmax(Y_test[i]))\n",
    "\n",
    "        # Calculate accuracy\n",
    "        if np.argmax(Y_train[nn_index]) == np.argmax(Y_test[i]):\n",
    "            accuracy += 1./len(reshaped_X_test)\n",
    "\n",
    "    print(\"Done!\")\n",
    "    print(\"Accuracy:\", accuracy)"
   ]
  },
  {
   "cell_type": "code",
   "execution_count": null,
   "metadata": {},
   "outputs": [],
   "source": []
  }
 ],
 "metadata": {
  "kernelspec": {
   "display_name": "Python 3",
   "language": "python",
   "name": "python3"
  },
  "language_info": {
   "codemirror_mode": {
    "name": "ipython",
    "version": 3
   },
   "file_extension": ".py",
   "mimetype": "text/x-python",
   "name": "python",
   "nbconvert_exporter": "python",
   "pygments_lexer": "ipython3",
   "version": "3.7.1"
  }
 },
 "nbformat": 4,
 "nbformat_minor": 2
}
